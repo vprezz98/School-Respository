{
  "nbformat": 4,
  "nbformat_minor": 0,
  "metadata": {
    "colab": {
      "name": "Hw2.ipynb",
      "provenance": [],
      "authorship_tag": "ABX9TyNwgFN8VIabn6iP7TCH3Rv+",
      "include_colab_link": true
    },
    "kernelspec": {
      "name": "python3",
      "display_name": "Python 3"
    },
    "language_info": {
      "name": "python"
    }
  },
  "cells": [
    {
      "cell_type": "markdown",
      "metadata": {
        "id": "view-in-github",
        "colab_type": "text"
      },
      "source": [
        "<a href=\"https://colab.research.google.com/github/vprezz98/School-Respository/blob/main/Hw2.ipynb\" target=\"_parent\"><img src=\"https://colab.research.google.com/assets/colab-badge.svg\" alt=\"Open In Colab\"/></a>"
      ]
    },
    {
      "cell_type": "code",
      "metadata": {
        "colab": {
          "base_uri": "https://localhost:8080/"
        },
        "id": "YnciKDqY5Jsa",
        "outputId": "298d12de-bb0a-4e15-9320-ba0ab981b66d"
      },
      "source": [
        "!pip install dotmap\n",
        "import requests\n",
        "import re\n",
        "import string\n",
        "from dotmap import DotMap\n",
        "import numpy as np\n"
      ],
      "execution_count": 16,
      "outputs": [
        {
          "output_type": "stream",
          "name": "stdout",
          "text": [
            "Requirement already satisfied: dotmap in /usr/local/lib/python3.7/dist-packages (1.3.24)\n",
            "Cloning into 'data'...\n",
            "fatal: repository 'https://github.com/profteachkids/chetools/tree/main/data/' not found\n"
          ]
        }
      ]
    },
    {
      "cell_type": "code",
      "metadata": {
        "id": "Dru-6CV98hKj"
      },
      "source": [
        "from google.colab import drive\n",
        "drive.mount('/content/drive')"
      ],
      "execution_count": null,
      "outputs": []
    },
    {
      "cell_type": "code",
      "metadata": {
        "id": "RUyiZm3n5z6O"
      },
      "source": [
        "extract_single_props = {'Molecular Weight' : 'Mw',\n",
        "                        'Critical Temperature' : 'Tc',\n",
        "                        'Critical Pressure' : 'Pc',\n",
        "                        'Critical Volume' : 'Vc',\n",
        "                        'Acentric factor' : 'w',\n",
        "                        'Normal boiling point' : 'Tb',\n",
        "                        'IG heat of formation' : 'HfIG',\n",
        "                        'IG Gibbs of formation' : 'GfIG',\n",
        "                        'Heat of vaporization' : 'HvapNB'}\n",
        "\n",
        "extract_coeff_props={'Vapor Pressure' : 'Pvap',\n",
        "                     'Ideal Gas Heat Capacity':'CpIG',\n",
        "                     'Liquid Heat Capacity' : 'CpL',\n",
        "                     'Solid Heat Capacity' : 'CpS',\n",
        "                     'Heat of Vaporization' : 'Hvap',\n",
        "                     'Liquid Density' : 'rhoL'}"
      ],
      "execution_count": null,
      "outputs": []
    },
    {
      "cell_type": "code",
      "metadata": {
        "colab": {
          "base_uri": "https://localhost:8080/"
        },
        "id": "kpXyaDgo54K6",
        "outputId": "b6052c07-15ab-416d-c583-c5954891f994"
      },
      "source": [
        "compounds = ['Water']\n",
        "single_props_pat = re.compile(r'^\\s+([\\w \\/.]+?)\\s+:\\s+([-.0-9e+]+) +([-\\w/.()*]*) *$', re.MULTILINE)\n",
        "coeffs_name_pat = re.compile(r'([\\w ]+)\\s[^\\n]*Equation.*?Coeffs:([-0-9. e+]*)', re.DOTALL)\n",
        "print(baseurl)"
      ],
      "execution_count": null,
      "outputs": [
        {
          "output_type": "stream",
          "name": "stdout",
          "text": [
            "https://raw.githubusercontent.com/profteachkids/chetools/main/data/\n"
          ]
        }
      ]
    }
  ]
}