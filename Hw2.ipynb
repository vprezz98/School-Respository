{
  "nbformat": 4,
  "nbformat_minor": 0,
  "metadata": {
    "colab": {
      "name": "Hw2.ipynb",
      "provenance": [],
      "collapsed_sections": [],
      "authorship_tag": "ABX9TyMWEI6uiZt5wn5PXiUe8ccH",
      "include_colab_link": true
    },
    "kernelspec": {
      "name": "python3",
      "display_name": "Python 3"
    },
    "language_info": {
      "name": "python"
    }
  },
  "cells": [
    {
      "cell_type": "markdown",
      "metadata": {
        "id": "view-in-github",
        "colab_type": "text"
      },
      "source": [
        "<a href=\"https://colab.research.google.com/github/vprezz98/School-Respository/blob/main/Hw2.ipynb\" target=\"_parent\"><img src=\"https://colab.research.google.com/assets/colab-badge.svg\" alt=\"Open In Colab\"/></a>"
      ]
    },
    {
      "cell_type": "markdown",
      "metadata": {
        "id": "3MMV2BWYH6oA"
      },
      "source": [
        "Initial Library Imports"
      ]
    },
    {
      "cell_type": "code",
      "metadata": {
        "colab": {
          "base_uri": "https://localhost:8080/"
        },
        "id": "YnciKDqY5Jsa",
        "outputId": "012f85f2-b666-4a37-9756-fa6add9946ee"
      },
      "source": [
        "!pip install dotmap\n",
        "import requests\n",
        "import re\n",
        "import string\n",
        "from dotmap import DotMap\n",
        "import numpy as np"
      ],
      "execution_count": null,
      "outputs": [
        {
          "output_type": "stream",
          "name": "stdout",
          "text": [
            "Requirement already satisfied: dotmap in /usr/local/lib/python3.7/dist-packages (1.3.24)\n"
          ]
        }
      ]
    },
    {
      "cell_type": "markdown",
      "metadata": {
        "id": "gvb7ij14H3bf"
      },
      "source": [
        "Set-up Data Imports"
      ]
    },
    {
      "cell_type": "code",
      "metadata": {
        "id": "VRJGjM2ZGCzA"
      },
      "source": [
        "URL = 'https://raw.githubusercontent.com/profteachkids/chetools/main/data/'\n",
        "LasttextURL = 'Props.txt'\n",
        "compounds = ['Acetone']\n",
        "for compound in compounds:\n",
        "  FullURL = requests.get(URL+compound+LasttextURL)\n",
        "text = FullURL.text"
      ],
      "execution_count": null,
      "outputs": []
    },
    {
      "cell_type": "markdown",
      "metadata": {
        "id": "GxgDWSD2TcvN"
      },
      "source": [
        "Define Pattern"
      ]
    },
    {
      "cell_type": "code",
      "metadata": {
        "id": "5Ee8ovyUTMhq"
      },
      "source": [
        "single_props_pat = re.compile(r'^\\s+([\\w \\/.]+?)\\s+:\\s+([-.0-9e+]+) +([-\\w/.()*]*) *$', re.MULTILINE)\n",
        "coeffs_name_pat = re.compile(r'([\\w ]+)\\s[^\\n]*Equation.*?Coeffs:([-0-9. e+]*)', re.DOTALL)"
      ],
      "execution_count": null,
      "outputs": []
    },
    {
      "cell_type": "markdown",
      "metadata": {
        "id": "bwTwaf3BYude"
      },
      "source": [
        "Create Dictionary"
      ]
    },
    {
      "cell_type": "code",
      "metadata": {
        "id": "5VlVxX8ydXM4"
      },
      "source": [
        "single_props = dict([single_prop[:2] for single_prop in single_props_pat.findall(text)])\n",
        "props={}\n",
        "for k,v in extract_single_props.items():\n",
        "  props[v] = float(single_props[k])\n",
        "props = DotMap(props)"
      ],
      "execution_count": null,
      "outputs": []
    },
    {
      "cell_type": "code",
      "metadata": {
        "id": "4qTz2hGbf8v9"
      },
      "source": [
        "coef_strings = dict(coeffs_name_pat.findall(text))\n",
        "for fullname, abbreveationname in extract_coeff_props.items():\n",
        "    coeff_values = re.split(r'\\s+',coef_strings[fullname])\n",
        "    for letter, coeff in zip(string.ascii_uppercase,coeff_values[1:]):\n",
        "      props[abbreveationname+letter]=float(coeff)"
      ],
      "execution_count": null,
      "outputs": []
    },
    {
      "cell_type": "markdown",
      "metadata": {
        "id": "i4NaZBPivxjK"
      },
      "source": [
        "Define Vapor Pressure Function"
      ]
    },
    {
      "cell_type": "code",
      "metadata": {
        "id": "7i3b-cxkvf5j"
      },
      "source": [
        "def vaporpressure(T):\n",
        "  return np.exp(props.PvapA + props.PvapB/T + props.PvapC*np.log(T) + props.PvapD*T**props.PvapE)"
      ],
      "execution_count": null,
      "outputs": []
    }
  ]
}